{
 "cells": [
  {
   "cell_type": "code",
   "execution_count": 1,
   "metadata": {
    "tags": []
   },
   "outputs": [
    {
     "name": "stdout",
     "output_type": "stream",
     "text": [
      "Temperature values are : \n",
      " [1.5, 1.5612244897959184, 1.6224489795918366, 1.683673469387755, 1.7448979591836735, 1.806122448979592, 1.8673469387755102, 1.9285714285714286, 1.989795918367347, 2.0510204081632653, 2.112244897959184, 2.173469387755102, 2.2346938775510203, 2.295918367346939, 2.357142857142857, 2.4183673469387754, 2.479591836734694, 2.5408163265306123, 2.6020408163265305, 2.663265306122449, 2.7244897959183674, 2.7857142857142856, 2.8469387755102042, 2.9081632653061225, 2.9693877551020407, 3.0306122448979593, 3.0918367346938775, 3.1530612244897958, 3.2142857142857144, 3.2755102040816326, 3.336734693877551, 3.3979591836734695, 3.4591836734693877, 3.520408163265306, 3.5816326530612246, 3.642857142857143, 3.704081632653061, 3.7653061224489797, 3.826530612244898, 3.887755102040816, 3.9489795918367347, 4.0102040816326525, 4.071428571428571, 4.13265306122449, 4.1938775510204085, 4.255102040816326, 4.316326530612245, 4.377551020408163, 4.438775510204081, 4.5]\n"
     ]
    }
   ],
   "source": [
    "#Import essential modules, as well as many non-essential ones\r\n",
    "\r\n",
    "import numpy as np  # package for arrays\r\n",
    "import matplotlib.pyplot as plt  # package for plotting\r\n",
    "import csv #for storing and retrieveing data\r\n",
    "import pandas as pd #no idea\r\n",
    "import plotly.express as px\r\n",
    "import seaborn as sns \r\n",
    "import math\r\n",
    "\r\n",
    "sns.set_theme()\r\n",
    "\r\n",
    "plt.style.use(\"seaborn-dark\")\r\n",
    "\r\n",
    "matplotlib.rc('xtick', labelsize=14) \r\n",
    "matplotlib.rc('ytick', labelsize=14) \r\n",
    "font = {'family' : 'normal',\r\n",
    "        'weight' : 'normal',\r\n",
    "        'size'   : 14}\r\n",
    "\r\n",
    "matplotlib.rc('font', **font)\r\n",
    "\r\n",
    "'Read observables in All Data.csv and open them as lists'\r\n",
    "\r\n",
    "with open('Data.csv') as file:\r\n",
    "    reader = csv.reader(file) #generates an object that can be iteratred over to get every single row from the CSV file\r\n",
    "    rows = list(reader)\r\n",
    "    j = 0\r\n",
    "    for i in rows:\r\n",
    "        if len(i) < 2:\r\n",
    "            pass\r\n",
    "        else:\r\n",
    "            i = list(map(float,i))\r\n",
    "            rows[j] = i\r\n",
    "        j +=1        \r\n",
    "    \r\n",
    "\r\n",
    "    T = rows[1]\r\n",
    "    print('Temperature values are : \\n {}'.format(T))\r\n",
    "    E4,E8,E16,E32 = rows[4:8]\r\n",
    "    Mag4,Mag8,Mag16,Mag32 = rows[10:14]\r\n",
    "    Cv4,Cv8,Cv16,Cv32 = rows[16:20]\r\n",
    "    X4,X8,X16,X32 = rows[22:26]\r\n",
    "\r\n",
    "    Err_E4,Err_E8,Err_E16,Err_E32 = rows[28:32]\r\n",
    "    Err_M4,Err_M8,Err_M16,Err_M32 = rows[34:38]\r\n",
    "    Err_Cv4,Err_Cv8,Err_Cv16,Err_Cv32 = rows[40:44]\r\n",
    "    Err_X4,Err_X8,Err_X16,Err_X32 = rows[46:50]\r\n",
    "\r\n",
    "    Q4,Q8,Q16,Q32 = rows[52:56]\r\n",
    "    ErrQ4,ErrQ8,ErrQ16,ErrQ32 = rows[58:62]"
   ]
  },
  {
   "cell_type": "code",
   "execution_count": 2,
   "metadata": {},
   "outputs": [
    {
     "name": "stdout",
     "output_type": "stream",
     "text": [
      "Using matplotlib backend: Qt5Agg\n"
     ]
    }
   ],
   "source": [
    "%matplotlib\r\n",
    "plt.figure(dpi = 200)\r\n",
    "\r\n",
    "plt.title(\"1000 MC steps\")\r\n",
    "plt.errorbar(T,E4,yerr=Err_E4,label = \"L = 4\")\r\n",
    "plt.errorbar(T,E8,yerr=Err_E8,label = \"L = 8\")\r\n",
    "plt.errorbar(T,E16,yerr=Err_E16,label = \"L = 16\")\r\n",
    "plt.errorbar(T,E32,yerr=Err_E32,label = \"L = 32\")\r\n",
    "plt.ylabel('Energy')\r\n",
    "plt.xlabel('Temperature [J/kB]')\r\n",
    "\r\n",
    "plt.legend()\r\n",
    "plt.show()\r\n",
    "\r\n",
    "\r\n",
    "plt.figure(dpi = 200)\r\n",
    "\r\n",
    "\r\n",
    "\r\n",
    "plt.title(\"1000 MC steps\")\r\n",
    "\r\n",
    "plt.plot(T,Err_E4,label = \"L = 4\")\r\n",
    "plt.plot(T,Err_E8,label = \"L = 8\")\r\n",
    "plt.plot(T,Err_E16,label = \"L = 16\")\r\n",
    "plt.plot(T,Err_E32,label = \"L = 32\")\r\n",
    "plt.ylabel('Error')\r\n",
    "plt.xlabel('Temperature [J/kB]')\r\n",
    "\r\n",
    "plt.legend()\r\n",
    "plt.show()\r\n",
    "\r\n",
    "'Binder Ratios'\r\n",
    "plt.style.use(\"default\")\r\n",
    "plt.figure(dpi = 200)\r\n",
    "plt.errorbar(T,Q4,yerr=ErrQ4,label = \"L = 4\")\r\n",
    "plt.errorbar(T,Q8,yerr=ErrQ8,label = \"L = 8\")\r\n",
    "plt.errorbar(T,Q16,yerr=ErrQ16,label = \"L = 16\")\r\n",
    "plt.errorbar(T,Q32,yerr=ErrQ32,label = \"L = 32\")\r\n",
    "\r\n",
    "plt.ylabel('Binder Ratio Q')\r\n",
    "plt.xlabel('Temperature [T]')\r\n",
    "plt.legend()\r\n",
    "plt.show()\r\n",
    "\r\n",
    "plt.figure(dpi = 150)\r\n",
    "plt.title(\"Error Bars Hidden\")\r\n",
    "plt.plot(T,Q4,label = \"L = 4\")\r\n",
    "plt.plot(T,Q8,label = \"L = 8\")\r\n",
    "plt.plot(T,Q16,label = \"L = 16\")\r\n",
    "plt.plot(T,Q32,label = \"L = 32\")\r\n",
    "plt.ylabel('Binder Ratio')\r\n",
    "plt.xlabel('Temperature [T]')\r\n",
    "plt.legend()\r\n",
    "plt.show()"
   ]
  },
  {
   "cell_type": "code",
   "execution_count": 3,
   "metadata": {},
   "outputs": [
    {
     "name": "stdout",
     "output_type": "stream",
     "text": [
      "Using matplotlib backend: Qt5Agg\n"
     ]
    },
    {
     "data": {
      "text/plain": "<matplotlib.legend.Legend at 0x1ea9b6866a0>"
     },
     "execution_count": 3,
     "metadata": {},
     "output_type": "execute_result"
    }
   ],
   "source": [
    "%matplotlib\r\n",
    "\r\n",
    "T_c = 2/math.log(1 + math.sqrt(2)) #Theoretical Critical Temperature\r\n",
    "t = [temp/T_c for temp in T]\r\n",
    "\r\n",
    "fig, axs = plt.subplots(2, 2)\r\n",
    "axs[0, 0].errorbar(T,E4,yerr=Err_E4,label = 'L=4')\r\n",
    "axs[0, 0].errorbar(T,E8,yerr=Err_E8,label = 'L=8')\r\n",
    "axs[0, 0].errorbar(T,E16,yerr=Err_E16,label = 'L=16')\r\n",
    "axs[0, 0].errorbar(T,E32,yerr=Err_E32,label = 'L=32')\r\n",
    "axs[0, 0].set_title('Energy')\r\n",
    "axs[0,0].set_xlabel('')\r\n",
    "axs[0, 0].set_ylabel('Energy')\r\n",
    "axs[0,0].set_xticks([])\r\n",
    "axs[0,0].legend()\r\n",
    "\r\n",
    "axs[0, 1].errorbar(T,Mag4,yerr=Err_M4,label = 'L=4')\r\n",
    "axs[0, 1].errorbar(T,Mag8,yerr=Err_M8,label = 'L=8')\r\n",
    "axs[0, 1].errorbar(T,Mag16,yerr=Err_M16,label = 'L=16')\r\n",
    "axs[0, 1].errorbar(T,Mag16,yerr=Err_M32,label = 'L=32')\r\n",
    "axs[0, 1].set_title('Magnetisation')\r\n",
    "axs[0,1].set_xlabel('')\r\n",
    "axs[0,1].set_ylabel('Magnetisation')\r\n",
    "axs[0,1].set_xticks([])\r\n",
    "axs[0,1].legend()\r\n",
    "\r\n",
    "axs[1, 0].errorbar(T,Cv4,yerr=Err_Cv4,label = 'L=4')\r\n",
    "axs[1, 0].errorbar(T,Cv8,yerr=Err_Cv8,label = 'L=8')\r\n",
    "axs[1, 0].errorbar(T,Cv16,yerr=Err_Cv16,label = 'L=16')\r\n",
    "axs[1, 0].errorbar(T,Cv32,yerr=Err_Cv32,label = 'L=32')\r\n",
    "axs[1, 0].set_title('Specific Heat Capacity')\r\n",
    "axs[1,0].set_xlabel('Temperature [J/kB]')\r\n",
    "axs[1,0].set_ylabel('Specific Heat Capacity')\r\n",
    "axs[1,0].legend()\r\n",
    "\r\n",
    "axs[1, 1].errorbar(T,X4,yerr=Err_X4,label = 'L=4')\r\n",
    "axs[1, 1].errorbar(T,X8,yerr=Err_X8,label = 'L=8')\r\n",
    "axs[1, 1].errorbar(T,X16,yerr=Err_X16,label = 'L=16')\r\n",
    "#axs[1, 1].errorbar(T,X32,yerr=Err_X32,label = 'L=32')\r\n",
    "axs[1, 1].set_title('Magnetic Susceptibility')\r\n",
    "axs[1,1].set_xlabel('Temperature [J/kB]')\r\n",
    "axs[1,1].set_ylabel('Magnetic Susceptibility')\r\n",
    "axs[1, 1].legend()"
   ]
  },
  {
   "cell_type": "code",
   "execution_count": 4,
   "metadata": {},
   "outputs": [
    {
     "name": "stdout",
     "output_type": "stream",
     "text": [
      "Using matplotlib backend: Qt5Agg\n"
     ]
    },
    {
     "data": {
      "text/plain": "<matplotlib.legend.Legend at 0x1ea9b609400>"
     },
     "execution_count": 4,
     "metadata": {},
     "output_type": "execute_result"
    }
   ],
   "source": [
    "%matplotlib\r\n",
    "\r\n",
    "matplotlib.rc('xtick', labelsize=14) \r\n",
    "matplotlib.rc('ytick', labelsize=14) \r\n",
    "font = {'family' : 'normal',\r\n",
    "        'weight' : 'normal',\r\n",
    "        'size'   : 14}\r\n",
    "\r\n",
    "matplotlib.rc('font', **font)\r\n",
    "\r\n",
    "\r\n",
    "fig, axs = plt.subplots(2, 2)\r\n",
    "axs[0, 0].errorbar(t,E4,yerr=Err_E4,label = 'L=4')\r\n",
    "axs[0, 0].errorbar(t,E8,yerr=Err_E8,label = 'L=8')\r\n",
    "axs[0, 0].errorbar(t,E16,yerr=Err_E16,label = 'L=16')\r\n",
    "axs[0, 0].errorbar(t,E32,yerr=Err_E32,label = 'L=32')\r\n",
    "axs[0, 0].vlines(1,-0.9,-0.5,colors= 'k', label = 'Tc (theoretical)', linestyles = 'dashed')\r\n",
    "axs[0, 0].set_title('a', loc = 'left')\r\n",
    "axs[0,0].set_xlabel('')\r\n",
    "axs[0, 0].set_ylabel('Energy')\r\n",
    "axs[0,0].set_xticks([])\r\n",
    "axs[0,0].legend()\r\n",
    "\r\n",
    "axs[0, 1].errorbar(t,Mag4,yerr=Err_M4,label = 'L=4')\r\n",
    "axs[0, 1].errorbar(t,Mag8,yerr=Err_M8,label = 'L=8')\r\n",
    "axs[0, 1].errorbar(t,Mag16,yerr=Err_M16,label = 'L=16')\r\n",
    "axs[0, 1].errorbar(t,Mag16,yerr=Err_M32,label = 'L=32')\r\n",
    "axs[0, 1].vlines(1,0.4,1,colors= 'k', label = 'Tc (theoretical)', linestyles = 'dashed')\r\n",
    "axs[0, 1].set_title('b', loc = 'left')\r\n",
    "axs[0,1].set_xlabel('')\r\n",
    "axs[0,1].set_ylabel('Magnetisation')\r\n",
    "axs[0,1].set_xticks([])\r\n",
    "axs[0,1].legend()\r\n",
    "\r\n",
    "\r\n",
    "axs[1, 0].errorbar(t,Cv4,yerr=Err_Cv4,label = 'L=4')\r\n",
    "axs[1, 0].errorbar(t,Cv8,yerr=Err_Cv8,label = 'L=8')\r\n",
    "axs[1, 0].errorbar(t,Cv16,yerr=Err_Cv16,label = 'L=16')\r\n",
    "axs[1, 0].errorbar(t,Cv32,yerr=Err_Cv32,label = 'L=32')\r\n",
    "axs[1, 0].vlines(1,0.2,1.9,colors= 'k', label = 'Tc (theoretical)', linestyles = 'dashed')\r\n",
    "axs[1, 0].set_title('c', loc = 'left')\r\n",
    "axs[1,0].set_xlabel('T/Tc')\r\n",
    "axs[1,0].set_ylabel('Specific Heat Capacity')\r\n",
    "axs[1,0].legend()\r\n",
    "\r\n",
    "\r\n",
    "axs[1, 1].errorbar(t,X4,yerr=Err_X4,label = 'L=4')\r\n",
    "axs[1, 1].errorbar(t,X8,yerr=Err_X8,label = 'L=8')\r\n",
    "axs[1, 1].errorbar(t,X16,yerr=Err_X16,label = 'L=16')\r\n",
    "axs[1, 1].errorbar(t,X32,yerr=Err_X32,label = 'L=32')\r\n",
    "axs[1, 1].set_title('d ', loc = 'left')\r\n",
    "axs[1,1].set_xlabel('T/Tc')\r\n",
    "#axs[1,1].set_yscale('log')\r\n",
    "axs[1,1].set_ylabel('Magnetic Susceptibility')\r\n",
    "axs[1,1].vlines(1,0,18,colors= 'k', label = 'Tc (theoretical)', linestyles = 'dashed')\r\n",
    "axs[1, 1].legend()"
   ]
  },
  {
   "cell_type": "code",
   "execution_count": 5,
   "metadata": {},
   "outputs": [],
   "source": [
    "plt.figure(dpi=200)\r\n",
    "plt.errorbar(t,X4,yerr=Err_X4,label = 'L=4')\r\n",
    "plt.errorbar(t,X8,yerr=Err_X8,label = 'L=8')\r\n",
    "plt.errorbar(t,X16,yerr=Err_X16,label = 'L=16')\r\n",
    "plt.errorbar(t,X32,yerr=Err_X32,label = 'L=32')\r\n",
    "plt.title('e ', loc = 'left')\r\n",
    "plt.xlabel('T/Tc')\r\n",
    "plt.yscale('log')\r\n",
    "plt.ylabel('Magnetic Susceptibility')\r\n",
    "plt.vlines(1,0.1,20,colors= 'k', label = 'Tc (theoretical)', linestyles = 'dashed')\r\n",
    "plt.legend()\r\n",
    "plt.show()"
   ]
  },
  {
   "cell_type": "code",
   "execution_count": 8,
   "metadata": {},
   "outputs": [
    {
     "name": "stdout",
     "output_type": "stream",
     "text": [
      "Using matplotlib backend: Qt5Agg\n"
     ]
    }
   ],
   "source": [
    "%matplotlib\r\n",
    "'Binder Ratios'\r\n",
    "plt.style.use(\"default\")\r\n",
    "plt.figure(dpi = 200)\r\n",
    "#plt.vlines(1,1.05,1.15,colors= 'k', label = 'Tc (theoretical)')\r\n",
    "plt.errorbar(T,Q4,yerr=ErrQ4,label = \"L = 4\")\r\n",
    "plt.errorbar(T,Q8,yerr=ErrQ8,label = \"L = 8\")\r\n",
    "plt.errorbar(T,Q16,yerr=ErrQ16,label = \"L = 16\")\r\n",
    "plt.errorbar(T,Q32,yerr=ErrQ32,label = \"L = 32\")\r\n",
    "plt.vlines(T_c,1.0,1.2,colors= 'k', label = 'Tc (theoretical)', linestyles = 'solid')\r\n",
    "plt.ylabel('Binder Ratio Q')\r\n",
    "plt.xlabel('T')\r\n",
    "plt.legend()\r\n",
    "plt.show()\r\n",
    "\r\n",
    "plt.figure(dpi = 150)\r\n",
    "#plt.title(\"Error Bars Hidden\")\r\n",
    "plt.vlines(1,1.0,1.1,colors= 'k', label = 'Tc (theoretical)', linestyles = 'dashed')\r\n",
    "plt.plot(t,Q4,label = \"L = 4\")\r\n",
    "plt.plot(t,Q8,label = \"L = 8\")\r\n",
    "plt.plot(t,Q16,label = \"L = 16\")\r\n",
    "plt.plot(t,Q32,label = \"L = 32\")\r\n",
    "plt.ylabel('Binder Ratio')\r\n",
    "plt.xlabel('T/Tc')\r\n",
    "plt.legend()\r\n",
    "plt.show()"
   ]
  },
  {
   "cell_type": "code",
   "execution_count": 7,
   "metadata": {},
   "outputs": [
    {
     "ename": "NameError",
     "evalue": "name 'Energies32' is not defined",
     "output_type": "error",
     "traceback": [
      "\u001b[1;31m---------------------------------------------------------------------------\u001b[0m",
      "\u001b[1;31mNameError\u001b[0m                                 Traceback (most recent call last)",
      "\u001b[1;32m<ipython-input-7-d1d4e18d8e6f>\u001b[0m in \u001b[0;36m<module>\u001b[1;34m\u001b[0m\n\u001b[1;32m----> 1\u001b[1;33m \u001b[0mdata\u001b[0m \u001b[1;33m=\u001b[0m \u001b[0mEnergies32\u001b[0m\u001b[1;33m\u001b[0m\u001b[1;33m\u001b[0m\u001b[0m\n\u001b[0m\u001b[0;32m      2\u001b[0m \u001b[1;33m\u001b[0m\u001b[0m\n\u001b[0;32m      3\u001b[0m \u001b[0mg\u001b[0m \u001b[1;33m=\u001b[0m \u001b[0msns\u001b[0m\u001b[1;33m.\u001b[0m\u001b[0mrelplot\u001b[0m\u001b[1;33m(\u001b[0m\u001b[0mx\u001b[0m \u001b[1;33m=\u001b[0m \u001b[0mT\u001b[0m\u001b[1;33m,\u001b[0m \u001b[0my\u001b[0m \u001b[1;33m=\u001b[0m \u001b[0mEnergies32\u001b[0m\u001b[1;33m,\u001b[0m \u001b[0mkind\u001b[0m \u001b[1;33m=\u001b[0m \u001b[1;34m\"line\"\u001b[0m\u001b[1;33m,\u001b[0m \u001b[0mdata\u001b[0m \u001b[1;33m=\u001b[0m \u001b[0mdata\u001b[0m\u001b[1;33m)\u001b[0m\u001b[1;33m\u001b[0m\u001b[1;33m\u001b[0m\u001b[0m\n",
      "\u001b[1;31mNameError\u001b[0m: name 'Energies32' is not defined"
     ]
    },
    {
     "name": "stderr",
     "output_type": "stream",
     "text": [
      "findfont: Font family ['normal'] not found. Falling back to DejaVu Sans.\n",
      "findfont: Font family ['normal'] not found. Falling back to DejaVu Sans.\n"
     ]
    }
   ],
   "source": [
    "data = Energies32\r\n",
    "\r\n",
    "g = sns.relplot(x = T, y = Energies32, kind = \"line\", data = data)\r\n"
   ]
  }
 ],
 "metadata": {
  "kernelspec": {
   "display_name": "Python 3.8.5 64-bit (conda)",
   "name": "python385jvsc74a57bd0b3ba2566441a7c06988d0923437866b63cedc61552a5af99d1f4fb67d367b25f"
  },
  "language_info": {
   "codemirror_mode": {
    "name": "ipython",
    "version": 3
   },
   "file_extension": ".py",
   "mimetype": "text/x-python",
   "name": "python",
   "nbconvert_exporter": "python",
   "pygments_lexer": "ipython3",
   "version": "3.8.5"
  }
 },
 "nbformat": 4,
 "nbformat_minor": 2
}